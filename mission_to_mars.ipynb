{
 "cells": [
  {
   "cell_type": "code",
   "execution_count": null,
   "id": "efc97704",
   "metadata": {},
   "outputs": [],
   "source": []
  },
  {
   "cell_type": "code",
   "execution_count": 1,
   "id": "c06a8284",
   "metadata": {},
   "outputs": [],
   "source": [
    "# Dependables\n",
    "from bs4 import BeautifulSoup as bs\n",
    "import requests\n",
    "from splinter import Browser\n",
    "from webdriver_manager.chrome import ChromeDriverManager\n",
    "import pandas as pd\n",
    "import pymongo\n",
    "from selenium import webdriver\n",
    "import time"
   ]
  },
  {
   "cell_type": "code",
   "execution_count": 2,
   "id": "cd8747a7",
   "metadata": {},
   "outputs": [
    {
     "name": "stderr",
     "output_type": "stream",
     "text": [
      "\n",
      "\n",
      "====== WebDriver manager ======\n",
      "Current google-chrome version is 93.0.4577\n",
      "Get LATEST driver version for 93.0.4577\n",
      "Driver [C:\\Users\\pippi\\.wdm\\drivers\\chromedriver\\win32\\93.0.4577.63\\chromedriver.exe] found in cache\n"
     ]
    }
   ],
   "source": [
    "# Setup splinter\n",
    "executable_path = {'executable_path': ChromeDriverManager().install()}\n",
    "# executable_path = {'executable_path': r'C:\\Users\\pippi\\.wdm\\drivers\\chromedriver\\win32\\93.0.4577.63\\chromedriver.exe'}\n",
    "browser = Browser('chrome', **executable_path, headless=False)"
   ]
  },
  {
   "cell_type": "code",
   "execution_count": 3,
   "id": "d73b4e6e",
   "metadata": {},
   "outputs": [],
   "source": [
    "# Scrape NASA Mars News\n",
    "# Set up url\n",
    "newsUrl = 'https://redplanetscience.com/'\n",
    "browser.visit(newsUrl)\n",
    "browser.is_element_present_by_css('div.list_text', wait_time=1)\n",
    "html = browser.html"
   ]
  },
  {
   "cell_type": "code",
   "execution_count": 4,
   "id": "fe82faf2",
   "metadata": {},
   "outputs": [],
   "source": [
    "# Create soup object\n",
    "newsSoup = bs(html, 'html.parser')"
   ]
  },
  {
   "cell_type": "code",
   "execution_count": 5,
   "id": "e442f4da",
   "metadata": {},
   "outputs": [
    {
     "data": {
      "text/plain": [
       "<div class=\"content_title\">NASA's Mars 2020 Heads Into the Test Chamber</div>"
      ]
     },
     "execution_count": 5,
     "metadata": {},
     "output_type": "execute_result"
    }
   ],
   "source": [
    "# Parse out specific title\n",
    "div_level = newsSoup.select_one('div.list_text')\n",
    "div_level.find('div', class_='content_title')"
   ]
  },
  {
   "cell_type": "code",
   "execution_count": 6,
   "id": "df2d752f",
   "metadata": {},
   "outputs": [],
   "source": [
    "# Assign title to variable\n",
    "news_title = div_level.find('div', class_='content_title').text"
   ]
  },
  {
   "cell_type": "code",
   "execution_count": 7,
   "id": "a6dd7f4d",
   "metadata": {},
   "outputs": [
    {
     "name": "stdout",
     "output_type": "stream",
     "text": [
      "NASA's Mars 2020 Heads Into the Test Chamber\n"
     ]
    }
   ],
   "source": [
    "print(news_title)"
   ]
  },
  {
   "cell_type": "code",
   "execution_count": 8,
   "id": "4be21e7b",
   "metadata": {},
   "outputs": [
    {
     "data": {
      "text/plain": [
       "<div class=\"article_teaser_body\">In this time-lapse video taken at JPL, engineers move the Mars 2020 rover into a large vacuum chamber for testing in Mars-like environmental conditions.</div>"
      ]
     },
     "execution_count": 8,
     "metadata": {},
     "output_type": "execute_result"
    }
   ],
   "source": [
    "# Scrape the paragraph\n",
    "div_level = newsSoup.select_one('div.list_text')\n",
    "div_level.find('div', class_='article_teaser_body')"
   ]
  },
  {
   "cell_type": "code",
   "execution_count": 9,
   "id": "a6113b62",
   "metadata": {},
   "outputs": [],
   "source": [
    "# Assign paragraph to variable\n",
    "news_p = div_level.find('div', class_='article_teaser_body').text"
   ]
  },
  {
   "cell_type": "code",
   "execution_count": 10,
   "id": "8a3b6827",
   "metadata": {},
   "outputs": [
    {
     "name": "stdout",
     "output_type": "stream",
     "text": [
      "In this time-lapse video taken at JPL, engineers move the Mars 2020 rover into a large vacuum chamber for testing in Mars-like environmental conditions.\n"
     ]
    }
   ],
   "source": [
    "print(news_p)"
   ]
  },
  {
   "cell_type": "code",
   "execution_count": 11,
   "id": "53bcda26",
   "metadata": {},
   "outputs": [],
   "source": [
    "# Scrape the Mars space images\n",
    "# Set up url\n",
    "imageUrl = 'https://spaceimages-mars.com/'\n",
    "browser.visit(imageUrl)"
   ]
  },
  {
   "cell_type": "code",
   "execution_count": 12,
   "id": "76a6486c",
   "metadata": {},
   "outputs": [],
   "source": [
    "fullImage = browser.find_by_tag(\"button\")[1]\n",
    "fullImage.click()"
   ]
  },
  {
   "cell_type": "code",
   "execution_count": 13,
   "id": "5bdbc3c8",
   "metadata": {},
   "outputs": [],
   "source": [
    "# Create soup object\n",
    "html = browser.html\n",
    "imageSoup = bs(html, 'html.parser')"
   ]
  },
  {
   "cell_type": "code",
   "execution_count": 14,
   "id": "49f1b133",
   "metadata": {},
   "outputs": [
    {
     "name": "stdout",
     "output_type": "stream",
     "text": [
      "image/featured/mars3.jpg\n"
     ]
    }
   ],
   "source": [
    "# Find the image using for loop\n",
    "image_src = imageSoup.find('img', class_='headerimage fade-in')['src']\n",
    "print(image_src)"
   ]
  },
  {
   "cell_type": "code",
   "execution_count": 15,
   "id": "59fead70",
   "metadata": {},
   "outputs": [
    {
     "name": "stdout",
     "output_type": "stream",
     "text": [
      "https://spaceimages-mars.com/image/featured/mars3.jpg\n"
     ]
    }
   ],
   "source": [
    "# Create the full url string\n",
    "featured_image_url = 'https://spaceimages-mars.com/' + image_src\n",
    "print(featured_image_url)"
   ]
  },
  {
   "cell_type": "code",
   "execution_count": 16,
   "id": "dccce62e",
   "metadata": {},
   "outputs": [],
   "source": [
    "# Scrape the Mars facts\n",
    "# Set up the tables\n",
    "factsUrl = 'https://galaxyfacts-mars.com/'\n",
    "factTables = pd.read_html(factsUrl)"
   ]
  },
  {
   "cell_type": "code",
   "execution_count": 17,
   "id": "0b75a268",
   "metadata": {},
   "outputs": [
    {
     "data": {
      "text/plain": [
       "[                         0                1                2\n",
       " 0  Mars - Earth Comparison             Mars            Earth\n",
       " 1                Diameter:         6,779 km        12,742 km\n",
       " 2                    Mass:  6.39 × 10^23 kg  5.97 × 10^24 kg\n",
       " 3                   Moons:                2                1\n",
       " 4       Distance from Sun:   227,943,824 km   149,598,262 km\n",
       " 5          Length of Year:   687 Earth days      365.24 days\n",
       " 6             Temperature:     -87 to -5 °C      -88 to 58°C,\n",
       "                       0                              1\n",
       " 0  Equatorial Diameter:                       6,792 km\n",
       " 1       Polar Diameter:                       6,752 km\n",
       " 2                 Mass:  6.39 × 10^23 kg (0.11 Earths)\n",
       " 3                Moons:          2 ( Phobos & Deimos )\n",
       " 4       Orbit Distance:       227,943,824 km (1.38 AU)\n",
       " 5         Orbit Period:           687 days (1.9 years)\n",
       " 6  Surface Temperature:                   -87 to -5 °C\n",
       " 7         First Record:              2nd millennium BC\n",
       " 8          Recorded By:           Egyptian astronomers]"
      ]
     },
     "execution_count": 17,
     "metadata": {},
     "output_type": "execute_result"
    }
   ],
   "source": [
    "factTables"
   ]
  },
  {
   "cell_type": "code",
   "execution_count": 18,
   "id": "f38d9e8c",
   "metadata": {},
   "outputs": [
    {
     "data": {
      "text/html": [
       "<div>\n",
       "<style scoped>\n",
       "    .dataframe tbody tr th:only-of-type {\n",
       "        vertical-align: middle;\n",
       "    }\n",
       "\n",
       "    .dataframe tbody tr th {\n",
       "        vertical-align: top;\n",
       "    }\n",
       "\n",
       "    .dataframe thead th {\n",
       "        text-align: right;\n",
       "    }\n",
       "</style>\n",
       "<table border=\"1\" class=\"dataframe\">\n",
       "  <thead>\n",
       "    <tr style=\"text-align: right;\">\n",
       "      <th></th>\n",
       "      <th>0</th>\n",
       "      <th>1</th>\n",
       "      <th>2</th>\n",
       "    </tr>\n",
       "  </thead>\n",
       "  <tbody>\n",
       "    <tr>\n",
       "      <th>0</th>\n",
       "      <td>Mars - Earth Comparison</td>\n",
       "      <td>Mars</td>\n",
       "      <td>Earth</td>\n",
       "    </tr>\n",
       "    <tr>\n",
       "      <th>1</th>\n",
       "      <td>Diameter:</td>\n",
       "      <td>6,779 km</td>\n",
       "      <td>12,742 km</td>\n",
       "    </tr>\n",
       "    <tr>\n",
       "      <th>2</th>\n",
       "      <td>Mass:</td>\n",
       "      <td>6.39 × 10^23 kg</td>\n",
       "      <td>5.97 × 10^24 kg</td>\n",
       "    </tr>\n",
       "    <tr>\n",
       "      <th>3</th>\n",
       "      <td>Moons:</td>\n",
       "      <td>2</td>\n",
       "      <td>1</td>\n",
       "    </tr>\n",
       "    <tr>\n",
       "      <th>4</th>\n",
       "      <td>Distance from Sun:</td>\n",
       "      <td>227,943,824 km</td>\n",
       "      <td>149,598,262 km</td>\n",
       "    </tr>\n",
       "  </tbody>\n",
       "</table>\n",
       "</div>"
      ],
      "text/plain": [
       "                         0                1                2\n",
       "0  Mars - Earth Comparison             Mars            Earth\n",
       "1                Diameter:         6,779 km        12,742 km\n",
       "2                    Mass:  6.39 × 10^23 kg  5.97 × 10^24 kg\n",
       "3                   Moons:                2                1\n",
       "4       Distance from Sun:   227,943,824 km   149,598,262 km"
      ]
     },
     "execution_count": 18,
     "metadata": {},
     "output_type": "execute_result"
    }
   ],
   "source": [
    "# Set up DF\n",
    "mars_df = factTables[0]\n",
    "mars_df.head()"
   ]
  },
  {
   "cell_type": "code",
   "execution_count": 19,
   "id": "00f3c562",
   "metadata": {},
   "outputs": [
    {
     "data": {
      "text/html": [
       "<div>\n",
       "<style scoped>\n",
       "    .dataframe tbody tr th:only-of-type {\n",
       "        vertical-align: middle;\n",
       "    }\n",
       "\n",
       "    .dataframe tbody tr th {\n",
       "        vertical-align: top;\n",
       "    }\n",
       "\n",
       "    .dataframe thead th {\n",
       "        text-align: right;\n",
       "    }\n",
       "</style>\n",
       "<table border=\"1\" class=\"dataframe\">\n",
       "  <thead>\n",
       "    <tr style=\"text-align: right;\">\n",
       "      <th></th>\n",
       "      <th>0</th>\n",
       "      <th>1</th>\n",
       "    </tr>\n",
       "  </thead>\n",
       "  <tbody>\n",
       "    <tr>\n",
       "      <th>0</th>\n",
       "      <td>Mars - Earth Comparison</td>\n",
       "      <td>Mars</td>\n",
       "    </tr>\n",
       "    <tr>\n",
       "      <th>1</th>\n",
       "      <td>Diameter:</td>\n",
       "      <td>6,779 km</td>\n",
       "    </tr>\n",
       "    <tr>\n",
       "      <th>2</th>\n",
       "      <td>Mass:</td>\n",
       "      <td>6.39 × 10^23 kg</td>\n",
       "    </tr>\n",
       "    <tr>\n",
       "      <th>3</th>\n",
       "      <td>Moons:</td>\n",
       "      <td>2</td>\n",
       "    </tr>\n",
       "    <tr>\n",
       "      <th>4</th>\n",
       "      <td>Distance from Sun:</td>\n",
       "      <td>227,943,824 km</td>\n",
       "    </tr>\n",
       "  </tbody>\n",
       "</table>\n",
       "</div>"
      ],
      "text/plain": [
       "                         0                1\n",
       "0  Mars - Earth Comparison             Mars\n",
       "1                Diameter:         6,779 km\n",
       "2                    Mass:  6.39 × 10^23 kg\n",
       "3                   Moons:                2\n",
       "4       Distance from Sun:   227,943,824 km"
      ]
     },
     "execution_count": 19,
     "metadata": {},
     "output_type": "execute_result"
    }
   ],
   "source": [
    "# Drop Earth Column\n",
    "mars_df = mars_df.drop(columns=2)\n",
    "mars_df.head()"
   ]
  },
  {
   "cell_type": "code",
   "execution_count": 20,
   "id": "21048748",
   "metadata": {},
   "outputs": [
    {
     "data": {
      "text/html": [
       "<div>\n",
       "<style scoped>\n",
       "    .dataframe tbody tr th:only-of-type {\n",
       "        vertical-align: middle;\n",
       "    }\n",
       "\n",
       "    .dataframe tbody tr th {\n",
       "        vertical-align: top;\n",
       "    }\n",
       "\n",
       "    .dataframe thead th {\n",
       "        text-align: right;\n",
       "    }\n",
       "</style>\n",
       "<table border=\"1\" class=\"dataframe\">\n",
       "  <thead>\n",
       "    <tr style=\"text-align: right;\">\n",
       "      <th></th>\n",
       "      <th>0</th>\n",
       "      <th>1</th>\n",
       "    </tr>\n",
       "  </thead>\n",
       "  <tbody>\n",
       "    <tr>\n",
       "      <th>0</th>\n",
       "      <td>Name</td>\n",
       "      <td>Mars</td>\n",
       "    </tr>\n",
       "    <tr>\n",
       "      <th>1</th>\n",
       "      <td>Diameter:</td>\n",
       "      <td>6,779 km</td>\n",
       "    </tr>\n",
       "    <tr>\n",
       "      <th>2</th>\n",
       "      <td>Mass:</td>\n",
       "      <td>6.39 × 10^23 kg</td>\n",
       "    </tr>\n",
       "    <tr>\n",
       "      <th>3</th>\n",
       "      <td>Moons:</td>\n",
       "      <td>2</td>\n",
       "    </tr>\n",
       "    <tr>\n",
       "      <th>4</th>\n",
       "      <td>Distance from Sun:</td>\n",
       "      <td>227,943,824 km</td>\n",
       "    </tr>\n",
       "  </tbody>\n",
       "</table>\n",
       "</div>"
      ],
      "text/plain": [
       "                    0                1\n",
       "0                Name             Mars\n",
       "1           Diameter:         6,779 km\n",
       "2               Mass:  6.39 × 10^23 kg\n",
       "3              Moons:                2\n",
       "4  Distance from Sun:   227,943,824 km"
      ]
     },
     "execution_count": 20,
     "metadata": {},
     "output_type": "execute_result"
    }
   ],
   "source": [
    "# Drop Mars-Earth Comparison cell\n",
    "mars_df.at[0,0] = 'Name'\n",
    "mars_df.head()"
   ]
  },
  {
   "cell_type": "code",
   "execution_count": 21,
   "id": "f0e09b1a",
   "metadata": {},
   "outputs": [
    {
     "name": "stdout",
     "output_type": "stream",
     "text": [
      "                    0                1\n",
      "0                Name             Mars\n",
      "1           Diameter:         6,779 km\n",
      "2               Mass:  6.39 × 10^23 kg\n",
      "3              Moons:                2\n",
      "4  Distance from Sun:   227,943,824 km\n",
      "5     Length of Year:   687 Earth days\n",
      "6        Temperature:     -87 to -5 °C\n"
     ]
    }
   ],
   "source": [
    "print(mars_df)"
   ]
  },
  {
   "cell_type": "code",
   "execution_count": 22,
   "id": "51ef2611",
   "metadata": {},
   "outputs": [],
   "source": [
    "# Save mars_df to html\n",
    "mars_df.to_html('Mars.html')"
   ]
  },
  {
   "cell_type": "code",
   "execution_count": 23,
   "id": "967d0092",
   "metadata": {},
   "outputs": [],
   "source": [
    "# Scrape Mars Hemispheres\n",
    "# Set up url\n",
    "hemisphereUrl = 'https://marshemispheres.com/'\n",
    "browser.visit(hemisphereUrl)"
   ]
  },
  {
   "cell_type": "code",
   "execution_count": 24,
   "id": "5e4eb4c0",
   "metadata": {},
   "outputs": [],
   "source": [
    "# Create loop to cycle through each link\n",
    "html = browser.html\n",
    "hemisphereSoup = bs(html, 'html.parser')"
   ]
  },
  {
   "cell_type": "code",
   "execution_count": 25,
   "id": "d5388738",
   "metadata": {},
   "outputs": [],
   "source": [
    "# Create for loop\n",
    "hemisphere_image_url = []\n",
    "links = browser.find_by_css('a.itemLink img')\n",
    "for link in range(len(links)):\n",
    "    hemisphere_image_dict = {}\n",
    "    browser.find_by_css('a.itemLink img')[link].click()\n",
    "    imageUrl = browser.find_by_text(\"Sample\").first\n",
    "    hemisphere_image_dict[\"img_url\"] = imageUrl[\"href\"]\n",
    "    title = browser.find_by_css('h2.title').text\n",
    "    hemisphere_image_dict[\"title\"] = title\n",
    "    hemisphere_image_url.append(hemisphere_image_dict)\n",
    "    browser.back()"
   ]
  },
  {
   "cell_type": "code",
   "execution_count": 26,
   "id": "f3931a4d",
   "metadata": {},
   "outputs": [
    {
     "name": "stdout",
     "output_type": "stream",
     "text": [
      "[{'img_url': 'https://marshemispheres.com/images/full.jpg', 'title': 'Cerberus Hemisphere Enhanced'}, {'img_url': 'https://marshemispheres.com/images/schiaparelli_enhanced-full.jpg', 'title': 'Schiaparelli Hemisphere Enhanced'}, {'img_url': 'https://marshemispheres.com/images/syrtis_major_enhanced-full.jpg', 'title': 'Syrtis Major Hemisphere Enhanced'}, {'img_url': 'https://marshemispheres.com/images/valles_marineris_enhanced-full.jpg', 'title': 'Valles Marineris Hemisphere Enhanced'}]\n"
     ]
    }
   ],
   "source": [
    "print(hemisphere_image_url)"
   ]
  },
  {
   "cell_type": "code",
   "execution_count": 27,
   "id": "7e58212d",
   "metadata": {},
   "outputs": [],
   "source": [
    "# links = browser.find_by_css('a.itemLink img')\n",
    "# for link in range(len(links)):\n",
    "    # hemisphere_image_urls = {}\n",
    "    # Click the link\n",
    "    # browser.find_by_css('a.itemLink img')[link].click()\n",
    "    # Retrieve the image link\n",
    "    # sample = browser.find_link_by_text(\"Sample\").first\n",
    "    # hemisphere_image_urls['img_url'] = sample['href']\n",
    "    # Retrieve the image title\n",
    "    # title = browser.find_by_css('h2.title').text\n",
    "    # hemisphere_image_urls['title'] = title\n",
    "    # browser.back()\n",
    "    \n",
    "    # title = browser.find_by_css('h2.title')\\\n",
    "    # title = link.find('h2', class_='title').text\n",
    "    #title = hemisphereSoup.find('h2', class_='title').text\n",
    "    # titles_list.append(title)\n",
    "    # hemisphere_dict['title'] = title\n",
    "    # titles_list.append(title)\n",
    "    # href = browser.links.find_by_text('Sample')\n",
    "    # hemisphere_dict['image url']= href['href']\n",
    "    # title = hemisphereSoup.find('h3').text\n",
    "    # titles_list.append(title)\n",
    "    # html = browser.html\n",
    "    # pictureSoup = bs(html, 'html.parser')\n",
    "    # img_url_href = hemisphereSoup.find('a', target='_blank')['href']\n",
    "    # img_url = 'https://marshemispheres.com/' + img_url_href\n",
    "    # img_url_list.append(img_url)\n",
    "    # original = browser.find_by_css('a._blank').first\n",
    "    \n",
    "    # hemisphere_image_urls.append({'title': titles_list, 'img_url': img_url_list})"
   ]
  },
  {
   "cell_type": "code",
   "execution_count": null,
   "id": "d557973c",
   "metadata": {},
   "outputs": [],
   "source": []
  }
 ],
 "metadata": {
  "kernelspec": {
   "display_name": "Python 3",
   "language": "python",
   "name": "python3"
  },
  "language_info": {
   "codemirror_mode": {
    "name": "ipython",
    "version": 3
   },
   "file_extension": ".py",
   "mimetype": "text/x-python",
   "name": "python",
   "nbconvert_exporter": "python",
   "pygments_lexer": "ipython3",
   "version": "3.8.8"
  }
 },
 "nbformat": 4,
 "nbformat_minor": 5
}
